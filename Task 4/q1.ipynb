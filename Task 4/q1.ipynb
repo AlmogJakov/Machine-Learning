{
 "cells": [
  {
   "cell_type": "code",
   "execution_count": 1,
   "id": "acaf06da",
   "metadata": {},
   "outputs": [
    {
     "data": {
      "image/png": "[encoded data removed]",
      "text/plain": [
       "<Figure size 432x288 with 1 Axes>"
      ]
     },
     "metadata": {
      "needs_background": "light"
     },
     "output_type": "display_data"
    }
   ],
   "source": [
    "import random\n",
    "import numpy as np\n",
    "import matplotlib.pyplot as plt\n",
    "\n",
    "data_file = open(\"two_circle.txt\", \"r\")\n",
    "x_y_data = []\n",
    "color_data = []\n",
    "for line in data_file:\n",
    "    curr_line = line.split()\n",
    "    x_y_data.append([float(curr_line[0]), float(curr_line[1])])\n",
    "    color_data.append(int(curr_line[2]))\n",
    "data_file.close()\n",
    "colors = [\"blue\", \"red\"]\n",
    "n = len(x_y_data)\n",
    "\n",
    "\n",
    "def split_to_train_test():\n",
    "    S = []\n",
    "    S_color = []\n",
    "    T = []\n",
    "    T_color = []\n",
    "    for i in range(n):\n",
    "        if (random.getrandbits(1) == 1 and len(S) < (n / 2)) or len(T) >= (n / 2):\n",
    "            S.append(x_y_data[i])\n",
    "            S_color.append(color_data[i])\n",
    "        else:\n",
    "            T.append(x_y_data[i])\n",
    "            T_color.append(color_data[i])\n",
    "\n",
    "    return np.array(S), np.array(T), np.array(S_color), np.array(T_color)\n",
    "\n",
    "\n",
    "def knn_algorithm(train: np.ndarray, train_color: np.ndarray, test: np.ndarray, k_param, p_param: int):\n",
    "    test_color = []\n",
    "    for point in test:\n",
    "        # Distances form point to each point in train\n",
    "        distances = np.linalg.norm(train - point, p_param, axis=1)\n",
    "        # K shortest distances id\n",
    "        nearest_neighbor_ids = distances.argsort()[:k_param]\n",
    "        # Color of K shortest distances id\n",
    "        nearest_neighbor_rings = train_color[nearest_neighbor_ids]\n",
    "        # Add the most often appears color\n",
    "        test_color.append(np.bincount(nearest_neighbor_rings + 1).argmax() - 1)\n",
    "    return np.array(test_color).astype(int)\n",
    "\n",
    "\n",
    "if __name__ == \"__main__\":\n",
    "    run_size = 100\n",
    "    k_set = [1, 3, 5, 7, 9]\n",
    "    p_set = [1, 2, np.inf]\n",
    "    result = np.zeros((len(p_set), len(k_set)))\n",
    "    for _ in range(run_size):\n",
    "        # Split the data\n",
    "        S, T, S_color, T_color = split_to_train_test()\n",
    "        # Run k-Nearest Neighbors (kNN) Algorithm\n",
    "        for k_index in range(len(k_set)):\n",
    "            for p_index in range(len(p_set)):\n",
    "                T_color_result = knn_algorithm(S, S_color, T, k_set[k_index], p_set[p_index])\n",
    "                result[p_index, k_index] += np.count_nonzero(np.absolute(T_color_result - T_color))\n",
    "\n",
    "    # Calculate the average error\n",
    "    result /= run_size\n",
    "    # Show the result on chart\n",
    "    labels = ['K=1', 'K=3', 'K=5', 'K=7', 'K=9']\n",
    "    Lp1 = result[0]\n",
    "    Lp2 = result[1]\n",
    "    Lp_inf = result[2]\n",
    "\n",
    "    x = np.arange(len(labels))  # the label locations\n",
    "    width = 0.2  # the width of the bars\n",
    "\n",
    "    fig, ax = plt.subplots()\n",
    "    rects1 = ax.bar(x - width, Lp1, width, label='Lp=1')\n",
    "    rects2 = ax.bar(x, Lp_inf, width, label='Lp=2')\n",
    "    rects3 = ax.bar(x + width, Lp2, width, label='Lp=inf')\n",
    "\n",
    "    # Add some text for labels, title and custom x-axis tick labels, etc.\n",
    "    ax.set_ylabel('Average Error')\n",
    "#     ax.set_xlabel('K value')\n",
    "    ax.set_title('k-Nearest Neighbors Algorithm Result')\n",
    "    ax.set_xticks(x, labels)\n",
    "    ax.legend()\n",
    "\n",
    "    ax.bar_label(rects1, padding=3)\n",
    "    ax.bar_label(rects2, padding=3)\n",
    "    ax.bar_label(rects3, padding=3)\n",
    "\n",
    "    fig.tight_layout()\n",
    "\n",
    "    plt.show()\n"
   ]
  },
  {
   "cell_type": "code",
   "execution_count": null,
   "id": "e851b4a7",
   "metadata": {},
   "outputs": [],
   "source": []
  },
  {
   "cell_type": "code",
   "execution_count": null,
   "id": "3fa25e6c",
   "metadata": {},
   "outputs": [],
   "source": []
  }
 ],
 "metadata": {
  "kernelspec": {
   "display_name": "Python 3 (ipykernel)",
   "language": "python",
   "name": "python3"
  },
  "language_info": {
   "codemirror_mode": {
    "name": "ipython",
    "version": 3
   },
   "file_extension": ".py",
   "mimetype": "text/x-python",
   "name": "python",
   "nbconvert_exporter": "python",
   "pygments_lexer": "ipython3",
   "version": "3.9.0"
  }
 },
 "nbformat": 4,
 "nbformat_minor": 5
}
